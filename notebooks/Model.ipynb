{
 "cells": [
  {
   "cell_type": "markdown",
   "id": "056a1a1d-db50-43e8-a53f-e95700cfcccd",
   "metadata": {},
   "source": [
    "# Modelization"
   ]
  },
  {
   "cell_type": "code",
   "execution_count": 15,
   "id": "c2acefab",
   "metadata": {},
   "outputs": [],
   "source": [
    "# Set code path\n",
    "import sys\n",
    "import os\n",
    "sys.path.append(os.path.abspath(os.path.join(os.path.dirname(\"Model.ipynb\"), '..', 'code')))"
   ]
  },
  {
   "cell_type": "code",
   "execution_count": 16,
   "id": "94de0207-5138-4f53-802c-716313b91646",
   "metadata": {},
   "outputs": [],
   "source": [
    "from impute_and_drop import impute_missing, drop_data\n",
    "from one_hot_encoding import one_hot_encoding\n",
    "#from preprocess import get_preprocessed_data\n",
    "import json\n",
    "from sklearn.ensemble import RandomForestRegressor\n",
    "from sklearn.model_selection import train_test_split\n",
    "from sklearn.metrics import mean_squared_error\n",
    "import numpy as np"
   ]
  },
  {
   "cell_type": "code",
   "execution_count": 17,
   "id": "e06d05ee",
   "metadata": {},
   "outputs": [],
   "source": [
    "#data = get_preprocessed_data(data_file_name=\"cis2080.csv\", labels_file_name=\"descriptive_var_names.json\")\n",
    "from utils import *\n",
    "data = load_my_data()"
   ]
  },
  {
   "cell_type": "markdown",
   "id": "c075bd3f-66d6-487f-b684-72a31251a6c3",
   "metadata": {},
   "source": [
    "## Subset data\n",
    "Select only those atributes whose metadata is considered complete."
   ]
  },
  {
   "cell_type": "code",
   "execution_count": 18,
   "id": "7a81a792-bb62-4459-9ba3-1e69e1b4d8a1",
   "metadata": {},
   "outputs": [],
   "source": [
    "with open(\"../metadata/descriptive_var_names.json\") as f:\n",
    "   var_names = json.load(f)\n",
    "\n",
    "selected_vars = [\"UBE\"]\n",
    "for key, value in var_names.items():\n",
    "    if (value[\"description\"] != \"incomplete\"):\n",
    "        selected_vars.append(value[\"name\"])\n",
    "\n",
    "subdata = data[selected_vars].drop(columns=[\"day\", \"month\", \"year\"])"
   ]
  },
  {
   "attachments": {},
   "cell_type": "markdown",
   "id": "0310a621-a153-4814-8156-ab194ae7bb95",
   "metadata": {},
   "source": [
    "## Missing values imputation\n",
    "### Exploration"
   ]
  },
  {
   "cell_type": "code",
   "execution_count": 19,
   "id": "1925d4e1-7037-428d-9cf3-3fd1d10599d9",
   "metadata": {},
   "outputs": [
    {
     "data": {
      "text/html": [
       "<div>\n",
       "<style scoped>\n",
       "    .dataframe tbody tr th:only-of-type {\n",
       "        vertical-align: middle;\n",
       "    }\n",
       "\n",
       "    .dataframe tbody tr th {\n",
       "        vertical-align: top;\n",
       "    }\n",
       "\n",
       "    .dataframe thead th {\n",
       "        text-align: right;\n",
       "    }\n",
       "</style>\n",
       "<table border=\"1\" class=\"dataframe\">\n",
       "  <thead>\n",
       "    <tr style=\"text-align: right;\">\n",
       "      <th></th>\n",
       "      <th>UBE</th>\n",
       "      <th>region</th>\n",
       "      <th>population</th>\n",
       "      <th>cigarettes</th>\n",
       "      <th>cigars</th>\n",
       "      <th>drink_loc1</th>\n",
       "      <th>drink_loc2</th>\n",
       "      <th>political_espectrum</th>\n",
       "      <th>age</th>\n",
       "      <th>income</th>\n",
       "      <th>occupation</th>\n",
       "      <th>socioeconomic_condition</th>\n",
       "      <th>sex</th>\n",
       "      <th>education_level</th>\n",
       "      <th>sector</th>\n",
       "      <th>status</th>\n",
       "    </tr>\n",
       "  </thead>\n",
       "  <tbody>\n",
       "    <tr>\n",
       "      <th>0</th>\n",
       "      <td>0</td>\n",
       "      <td>Andalusia</td>\n",
       "      <td>30000.0</td>\n",
       "      <td>NaN</td>\n",
       "      <td>NaN</td>\n",
       "      <td>NaN</td>\n",
       "      <td>NaN</td>\n",
       "      <td>4.0</td>\n",
       "      <td>17.0</td>\n",
       "      <td>125000</td>\n",
       "      <td>Skilled workers</td>\n",
       "      <td>Students</td>\n",
       "      <td>female</td>\n",
       "      <td>High school</td>\n",
       "      <td>Industry</td>\n",
       "      <td>Skilled workers</td>\n",
       "    </tr>\n",
       "    <tr>\n",
       "      <th>1</th>\n",
       "      <td>17</td>\n",
       "      <td>Andalusia</td>\n",
       "      <td>30000.0</td>\n",
       "      <td>15.0</td>\n",
       "      <td>0.0</td>\n",
       "      <td>Pubs and caffeterias</td>\n",
       "      <td>NaN</td>\n",
       "      <td>3.0</td>\n",
       "      <td>33.0</td>\n",
       "      <td>125000</td>\n",
       "      <td>Farmers</td>\n",
       "      <td>Non-skilled workers</td>\n",
       "      <td>male</td>\n",
       "      <td>High school</td>\n",
       "      <td>Industry</td>\n",
       "      <td>Non-skilled workers</td>\n",
       "    </tr>\n",
       "    <tr>\n",
       "      <th>2</th>\n",
       "      <td>0</td>\n",
       "      <td>Andalusia</td>\n",
       "      <td>30000.0</td>\n",
       "      <td>NaN</td>\n",
       "      <td>NaN</td>\n",
       "      <td>NaN</td>\n",
       "      <td>NaN</td>\n",
       "      <td>3.0</td>\n",
       "      <td>68.0</td>\n",
       "      <td>25000</td>\n",
       "      <td>Skilled workers</td>\n",
       "      <td>Retirees and pensioners</td>\n",
       "      <td>female</td>\n",
       "      <td>Elementary school</td>\n",
       "      <td>Industry</td>\n",
       "      <td>No information</td>\n",
       "    </tr>\n",
       "    <tr>\n",
       "      <th>3</th>\n",
       "      <td>0</td>\n",
       "      <td>Andalusia</td>\n",
       "      <td>30000.0</td>\n",
       "      <td>NaN</td>\n",
       "      <td>NaN</td>\n",
       "      <td>NaN</td>\n",
       "      <td>NaN</td>\n",
       "      <td>3.0</td>\n",
       "      <td>39.0</td>\n",
       "      <td>125000</td>\n",
       "      <td>Skilled workers</td>\n",
       "      <td>Non payed housekeeping</td>\n",
       "      <td>female</td>\n",
       "      <td>Elementary school</td>\n",
       "      <td>Construction</td>\n",
       "      <td>Skilled workers</td>\n",
       "    </tr>\n",
       "    <tr>\n",
       "      <th>4</th>\n",
       "      <td>8</td>\n",
       "      <td>Andalusia</td>\n",
       "      <td>30000.0</td>\n",
       "      <td>NaN</td>\n",
       "      <td>NaN</td>\n",
       "      <td>Home</td>\n",
       "      <td>Pubs and caffeterias</td>\n",
       "      <td>3.0</td>\n",
       "      <td>41.0</td>\n",
       "      <td>175000</td>\n",
       "      <td>Profesionals</td>\n",
       "      <td>Technicians and middle management</td>\n",
       "      <td>male</td>\n",
       "      <td>Bachelor's degree</td>\n",
       "      <td>Servicies</td>\n",
       "      <td>Upper/Upper-middle class</td>\n",
       "    </tr>\n",
       "    <tr>\n",
       "      <th>...</th>\n",
       "      <td>...</td>\n",
       "      <td>...</td>\n",
       "      <td>...</td>\n",
       "      <td>...</td>\n",
       "      <td>...</td>\n",
       "      <td>...</td>\n",
       "      <td>...</td>\n",
       "      <td>...</td>\n",
       "      <td>...</td>\n",
       "      <td>...</td>\n",
       "      <td>...</td>\n",
       "      <td>...</td>\n",
       "      <td>...</td>\n",
       "      <td>...</td>\n",
       "      <td>...</td>\n",
       "      <td>...</td>\n",
       "    </tr>\n",
       "    <tr>\n",
       "      <th>17611</th>\n",
       "      <td>0</td>\n",
       "      <td>La Rioja</td>\n",
       "      <td>6000.0</td>\n",
       "      <td>NaN</td>\n",
       "      <td>NaN</td>\n",
       "      <td>NaN</td>\n",
       "      <td>NaN</td>\n",
       "      <td>7.0</td>\n",
       "      <td>67.0</td>\n",
       "      <td>75000</td>\n",
       "      <td>Skilled workers</td>\n",
       "      <td>Non payed housekeeping</td>\n",
       "      <td>female</td>\n",
       "      <td>Elementary school</td>\n",
       "      <td>Industry</td>\n",
       "      <td>Skilled workers</td>\n",
       "    </tr>\n",
       "    <tr>\n",
       "      <th>17612</th>\n",
       "      <td>0</td>\n",
       "      <td>La Rioja</td>\n",
       "      <td>6000.0</td>\n",
       "      <td>NaN</td>\n",
       "      <td>NaN</td>\n",
       "      <td>NaN</td>\n",
       "      <td>NaN</td>\n",
       "      <td>&lt;NA&gt;</td>\n",
       "      <td>16.0</td>\n",
       "      <td>NaN</td>\n",
       "      <td>Business owners</td>\n",
       "      <td>Students</td>\n",
       "      <td>male</td>\n",
       "      <td>High school</td>\n",
       "      <td>Agriculture</td>\n",
       "      <td>Old middle class</td>\n",
       "    </tr>\n",
       "    <tr>\n",
       "      <th>17613</th>\n",
       "      <td>0</td>\n",
       "      <td>La Rioja</td>\n",
       "      <td>6000.0</td>\n",
       "      <td>NaN</td>\n",
       "      <td>NaN</td>\n",
       "      <td>NaN</td>\n",
       "      <td>NaN</td>\n",
       "      <td>8.0</td>\n",
       "      <td>52.0</td>\n",
       "      <td>125000</td>\n",
       "      <td>Business owners</td>\n",
       "      <td>Non payed housekeeping</td>\n",
       "      <td>female</td>\n",
       "      <td>Elementary school</td>\n",
       "      <td>Agriculture</td>\n",
       "      <td>Old middle class</td>\n",
       "    </tr>\n",
       "    <tr>\n",
       "      <th>17614</th>\n",
       "      <td>14</td>\n",
       "      <td>La Rioja</td>\n",
       "      <td>6000.0</td>\n",
       "      <td>30.0</td>\n",
       "      <td>0.0</td>\n",
       "      <td>Home</td>\n",
       "      <td>Pubs and caffeterias</td>\n",
       "      <td>&lt;NA&gt;</td>\n",
       "      <td>26.0</td>\n",
       "      <td>NaN</td>\n",
       "      <td>Business owners</td>\n",
       "      <td>Farmers</td>\n",
       "      <td>male</td>\n",
       "      <td>Vocational trainning</td>\n",
       "      <td>Agriculture</td>\n",
       "      <td>Old middle class</td>\n",
       "    </tr>\n",
       "    <tr>\n",
       "      <th>17615</th>\n",
       "      <td>26</td>\n",
       "      <td>La Rioja</td>\n",
       "      <td>6000.0</td>\n",
       "      <td>15.0</td>\n",
       "      <td>0.0</td>\n",
       "      <td>Home</td>\n",
       "      <td>Pubs and caffeterias</td>\n",
       "      <td>&lt;NA&gt;</td>\n",
       "      <td>24.0</td>\n",
       "      <td>175000</td>\n",
       "      <td>Skilled workers</td>\n",
       "      <td>Non-skilled workers</td>\n",
       "      <td>male</td>\n",
       "      <td>Vocational trainning</td>\n",
       "      <td>Agriculture</td>\n",
       "      <td>Skilled workers</td>\n",
       "    </tr>\n",
       "  </tbody>\n",
       "</table>\n",
       "<p>17616 rows × 16 columns</p>\n",
       "</div>"
      ],
      "text/plain": [
       "       UBE     region  population  cigarettes  cigars            drink_loc1  \\\n",
       "0        0  Andalusia     30000.0         NaN     NaN                   NaN   \n",
       "1       17  Andalusia     30000.0        15.0     0.0  Pubs and caffeterias   \n",
       "2        0  Andalusia     30000.0         NaN     NaN                   NaN   \n",
       "3        0  Andalusia     30000.0         NaN     NaN                   NaN   \n",
       "4        8  Andalusia     30000.0         NaN     NaN                  Home   \n",
       "...    ...        ...         ...         ...     ...                   ...   \n",
       "17611    0   La Rioja      6000.0         NaN     NaN                   NaN   \n",
       "17612    0   La Rioja      6000.0         NaN     NaN                   NaN   \n",
       "17613    0   La Rioja      6000.0         NaN     NaN                   NaN   \n",
       "17614   14   La Rioja      6000.0        30.0     0.0                  Home   \n",
       "17615   26   La Rioja      6000.0        15.0     0.0                  Home   \n",
       "\n",
       "                 drink_loc2 political_espectrum   age  income  \\\n",
       "0                       NaN                 4.0  17.0  125000   \n",
       "1                       NaN                 3.0  33.0  125000   \n",
       "2                       NaN                 3.0  68.0   25000   \n",
       "3                       NaN                 3.0  39.0  125000   \n",
       "4      Pubs and caffeterias                 3.0  41.0  175000   \n",
       "...                     ...                 ...   ...     ...   \n",
       "17611                   NaN                 7.0  67.0   75000   \n",
       "17612                   NaN                <NA>  16.0     NaN   \n",
       "17613                   NaN                 8.0  52.0  125000   \n",
       "17614  Pubs and caffeterias                <NA>  26.0     NaN   \n",
       "17615  Pubs and caffeterias                <NA>  24.0  175000   \n",
       "\n",
       "            occupation            socioeconomic_condition     sex  \\\n",
       "0      Skilled workers                           Students  female   \n",
       "1              Farmers                Non-skilled workers    male   \n",
       "2      Skilled workers            Retirees and pensioners  female   \n",
       "3      Skilled workers             Non payed housekeeping  female   \n",
       "4         Profesionals  Technicians and middle management    male   \n",
       "...                ...                                ...     ...   \n",
       "17611  Skilled workers             Non payed housekeeping  female   \n",
       "17612  Business owners                           Students    male   \n",
       "17613  Business owners             Non payed housekeeping  female   \n",
       "17614  Business owners                            Farmers    male   \n",
       "17615  Skilled workers                Non-skilled workers    male   \n",
       "\n",
       "            education_level        sector                    status  \n",
       "0               High school      Industry           Skilled workers  \n",
       "1               High school      Industry       Non-skilled workers  \n",
       "2         Elementary school      Industry            No information  \n",
       "3         Elementary school  Construction           Skilled workers  \n",
       "4         Bachelor's degree     Servicies  Upper/Upper-middle class  \n",
       "...                     ...           ...                       ...  \n",
       "17611     Elementary school      Industry           Skilled workers  \n",
       "17612           High school   Agriculture          Old middle class  \n",
       "17613     Elementary school   Agriculture          Old middle class  \n",
       "17614  Vocational trainning   Agriculture          Old middle class  \n",
       "17615  Vocational trainning   Agriculture           Skilled workers  \n",
       "\n",
       "[17616 rows x 16 columns]"
      ]
     },
     "execution_count": 19,
     "metadata": {},
     "output_type": "execute_result"
    }
   ],
   "source": [
    "subdata"
   ]
  },
  {
   "cell_type": "code",
   "execution_count": 20,
   "id": "12f42a2c",
   "metadata": {},
   "outputs": [
    {
     "name": "stdout",
     "output_type": "stream",
     "text": [
      "[nan, nan, nan, nan, nan, <NA>, nan, nan, nan, nan, nan, nan]\n"
     ]
    }
   ],
   "source": [
    "# Check that there is only one type of missing data\n",
    "# Maybe this is not necesary\n",
    "\n",
    "missing_types = []\n",
    "for var_name in subdata.columns:\n",
    "    missing_types.extend(list(subdata[var_name][subdata[var_name].isna()].unique()))\n",
    "    \n",
    "print(missing_types)"
   ]
  },
  {
   "cell_type": "code",
   "execution_count": 21,
   "id": "5bbcc62e",
   "metadata": {},
   "outputs": [
    {
     "name": "stdout",
     "output_type": "stream",
     "text": [
      "population: 0.001\n",
      "cigarettes: 0.649\n",
      "cigars: 0.652\n",
      "drink_loc1: 0.464\n",
      "drink_loc2: 0.799\n",
      "political_espectrum: 0.336\n",
      "age: 0.002\n",
      "income: 0.319\n",
      "occupation: 0.006\n",
      "sex: 0.001\n",
      "sector: 0.007\n"
     ]
    }
   ],
   "source": [
    "# How common are nans per variable?\n",
    "for var_name in subdata.columns:\n",
    "    prop_nas = sum(subdata[var_name].isna())/len(subdata)\n",
    "    if prop_nas != 0.0:\n",
    "        print(var_name + \": \" + str(round(prop_nas, 3)))"
   ]
  },
  {
   "attachments": {},
   "cell_type": "markdown",
   "id": "cabea49c",
   "metadata": {},
   "source": [
    "\n",
    "| name                | prop  | type | comment                              |\n",
    "| ------------------- | ----- | ---- | ------------------------------------ |\n",
    "| population          | 0.001 | num  | median in their region               |\n",
    "| cigarettes          | 0.656 | num  | 0                                    |\n",
    "| cigars              | 0.979 | num  | 0                                    |\n",
    "| political_espectrum | 0.336 | num  | 34%                                  |\n",
    "| age                 | 0.003 | num  | median or drop rows                  |\n",
    "| income              | 0.319 | num  | 32%                                  |\n",
    "| occupation          | 0.045 | cat  | N.C.                                 |\n",
    "| drink_loc1          | 0.464 | cat  | N.C.                                 |\n",
    "| drink_loc2          | 0.799 | cat  | N.C.                                 |\n",
    "| sex                 | 0.001 | cat  | New label: \"No answer\"               |\n",
    "| sector              | 0.035 | cat  | N.S.                                 |\n",
    "\n"
   ]
  },
  {
   "cell_type": "code",
   "execution_count": 22,
   "id": "912a5c56",
   "metadata": {},
   "outputs": [],
   "source": [
    "data = impute_missing(subdata)\n",
    "data = drop_data(data)"
   ]
  },
  {
   "cell_type": "markdown",
   "id": "6d7c17a1-8728-4e69-b490-897c99beb2b8",
   "metadata": {},
   "source": [
    "## One hot encoding"
   ]
  },
  {
   "cell_type": "code",
   "execution_count": 23,
   "id": "1d002e8e-070a-4e9f-bcdd-16671de04dd4",
   "metadata": {},
   "outputs": [],
   "source": [
    "X, y = one_hot_encoding(data, \"UBE\")"
   ]
  },
  {
   "cell_type": "markdown",
   "id": "e0148500-f4a0-4d1d-8f9f-1993f992950b",
   "metadata": {},
   "source": [
    "## RandomForestClassifier"
   ]
  },
  {
   "cell_type": "code",
   "execution_count": 24,
   "id": "80a863e5",
   "metadata": {},
   "outputs": [],
   "source": [
    "# Split the dataset into a training set and a test set\n",
    "X_train, X_test, y_train, y_test = train_test_split(X, y, test_size=0.2, random_state=1)"
   ]
  },
  {
   "cell_type": "code",
   "execution_count": 25,
   "id": "57ae73ab-bdd9-4117-b70a-1bf12f6846df",
   "metadata": {},
   "outputs": [],
   "source": [
    "RFC = RandomForestRegressor(n_estimators=5, max_depth=4, random_state=1)\n"
   ]
  },
  {
   "cell_type": "code",
   "execution_count": 26,
   "id": "2a70590a",
   "metadata": {},
   "outputs": [
    {
     "data": {
      "text/html": [
       "<style>#sk-container-id-2 {color: black;background-color: white;}#sk-container-id-2 pre{padding: 0;}#sk-container-id-2 div.sk-toggleable {background-color: white;}#sk-container-id-2 label.sk-toggleable__label {cursor: pointer;display: block;width: 100%;margin-bottom: 0;padding: 0.3em;box-sizing: border-box;text-align: center;}#sk-container-id-2 label.sk-toggleable__label-arrow:before {content: \"▸\";float: left;margin-right: 0.25em;color: #696969;}#sk-container-id-2 label.sk-toggleable__label-arrow:hover:before {color: black;}#sk-container-id-2 div.sk-estimator:hover label.sk-toggleable__label-arrow:before {color: black;}#sk-container-id-2 div.sk-toggleable__content {max-height: 0;max-width: 0;overflow: hidden;text-align: left;background-color: #f0f8ff;}#sk-container-id-2 div.sk-toggleable__content pre {margin: 0.2em;color: black;border-radius: 0.25em;background-color: #f0f8ff;}#sk-container-id-2 input.sk-toggleable__control:checked~div.sk-toggleable__content {max-height: 200px;max-width: 100%;overflow: auto;}#sk-container-id-2 input.sk-toggleable__control:checked~label.sk-toggleable__label-arrow:before {content: \"▾\";}#sk-container-id-2 div.sk-estimator input.sk-toggleable__control:checked~label.sk-toggleable__label {background-color: #d4ebff;}#sk-container-id-2 div.sk-label input.sk-toggleable__control:checked~label.sk-toggleable__label {background-color: #d4ebff;}#sk-container-id-2 input.sk-hidden--visually {border: 0;clip: rect(1px 1px 1px 1px);clip: rect(1px, 1px, 1px, 1px);height: 1px;margin: -1px;overflow: hidden;padding: 0;position: absolute;width: 1px;}#sk-container-id-2 div.sk-estimator {font-family: monospace;background-color: #f0f8ff;border: 1px dotted black;border-radius: 0.25em;box-sizing: border-box;margin-bottom: 0.5em;}#sk-container-id-2 div.sk-estimator:hover {background-color: #d4ebff;}#sk-container-id-2 div.sk-parallel-item::after {content: \"\";width: 100%;border-bottom: 1px solid gray;flex-grow: 1;}#sk-container-id-2 div.sk-label:hover label.sk-toggleable__label {background-color: #d4ebff;}#sk-container-id-2 div.sk-serial::before {content: \"\";position: absolute;border-left: 1px solid gray;box-sizing: border-box;top: 0;bottom: 0;left: 50%;z-index: 0;}#sk-container-id-2 div.sk-serial {display: flex;flex-direction: column;align-items: center;background-color: white;padding-right: 0.2em;padding-left: 0.2em;position: relative;}#sk-container-id-2 div.sk-item {position: relative;z-index: 1;}#sk-container-id-2 div.sk-parallel {display: flex;align-items: stretch;justify-content: center;background-color: white;position: relative;}#sk-container-id-2 div.sk-item::before, #sk-container-id-2 div.sk-parallel-item::before {content: \"\";position: absolute;border-left: 1px solid gray;box-sizing: border-box;top: 0;bottom: 0;left: 50%;z-index: -1;}#sk-container-id-2 div.sk-parallel-item {display: flex;flex-direction: column;z-index: 1;position: relative;background-color: white;}#sk-container-id-2 div.sk-parallel-item:first-child::after {align-self: flex-end;width: 50%;}#sk-container-id-2 div.sk-parallel-item:last-child::after {align-self: flex-start;width: 50%;}#sk-container-id-2 div.sk-parallel-item:only-child::after {width: 0;}#sk-container-id-2 div.sk-dashed-wrapped {border: 1px dashed gray;margin: 0 0.4em 0.5em 0.4em;box-sizing: border-box;padding-bottom: 0.4em;background-color: white;}#sk-container-id-2 div.sk-label label {font-family: monospace;font-weight: bold;display: inline-block;line-height: 1.2em;}#sk-container-id-2 div.sk-label-container {text-align: center;}#sk-container-id-2 div.sk-container {/* jupyter's `normalize.less` sets `[hidden] { display: none; }` but bootstrap.min.css set `[hidden] { display: none !important; }` so we also need the `!important` here to be able to override the default hidden behavior on the sphinx rendered scikit-learn.org. See: https://github.com/scikit-learn/scikit-learn/issues/21755 */display: inline-block !important;position: relative;}#sk-container-id-2 div.sk-text-repr-fallback {display: none;}</style><div id=\"sk-container-id-2\" class=\"sk-top-container\"><div class=\"sk-text-repr-fallback\"><pre>RandomForestRegressor(max_depth=4, n_estimators=5, random_state=1)</pre><b>In a Jupyter environment, please rerun this cell to show the HTML representation or trust the notebook. <br />On GitHub, the HTML representation is unable to render, please try loading this page with nbviewer.org.</b></div><div class=\"sk-container\" hidden><div class=\"sk-item\"><div class=\"sk-estimator sk-toggleable\"><input class=\"sk-toggleable__control sk-hidden--visually\" id=\"sk-estimator-id-2\" type=\"checkbox\" checked><label for=\"sk-estimator-id-2\" class=\"sk-toggleable__label sk-toggleable__label-arrow\">RandomForestRegressor</label><div class=\"sk-toggleable__content\"><pre>RandomForestRegressor(max_depth=4, n_estimators=5, random_state=1)</pre></div></div></div></div></div>"
      ],
      "text/plain": [
       "RandomForestRegressor(max_depth=4, n_estimators=5, random_state=1)"
      ]
     },
     "execution_count": 26,
     "metadata": {},
     "output_type": "execute_result"
    }
   ],
   "source": [
    "RFC.fit(X_train, y_train)"
   ]
  },
  {
   "cell_type": "code",
   "execution_count": 27,
   "id": "d3cf4a50",
   "metadata": {},
   "outputs": [
    {
     "name": "stdout",
     "output_type": "stream",
     "text": [
      "RMSE: 7.05\n"
     ]
    }
   ],
   "source": [
    "# Make predictions on the test data\n",
    "y_pred = RFC.predict(X_test)\n",
    "\n",
    "# Evaluate the performance of the classifier on the test data\n",
    "rmse = np.sqrt(mean_squared_error(y_test, y_pred))\n",
    "print(\"RMSE: {:.2f}\".format(rmse))"
   ]
  },
  {
   "cell_type": "code",
   "execution_count": 31,
   "id": "9b4b9b77",
   "metadata": {},
   "outputs": [
    {
     "data": {
      "text/plain": [
       "0.1     0.0\n",
       "0.9    14.0\n",
       "Name: UBE, dtype: float64"
      ]
     },
     "execution_count": 31,
     "metadata": {},
     "output_type": "execute_result"
    }
   ],
   "source": [
    "data.UBE.quantile([0.1, 0.9])"
   ]
  },
  {
   "attachments": {},
   "cell_type": "markdown",
   "id": "d47c7b34",
   "metadata": {},
   "source": [
    "Given these quantiles, the RMSE indicates that the prediction is awful. Nevertheless, there are plenty of aspects to improve now that a basic model is running."
   ]
  }
 ],
 "metadata": {
  "kernelspec": {
   "display_name": "Python 3 (ipykernel)",
   "language": "python",
   "name": "python3"
  },
  "language_info": {
   "codemirror_mode": {
    "name": "ipython",
    "version": 3
   },
   "file_extension": ".py",
   "mimetype": "text/x-python",
   "name": "python",
   "nbconvert_exporter": "python",
   "pygments_lexer": "ipython3",
   "version": "3.10.6"
  },
  "vscode": {
   "interpreter": {
    "hash": "4fbfb629fa39461162266b9b820f108237ed20d8d24b9b3a7805e671892d92b8"
   }
  }
 },
 "nbformat": 4,
 "nbformat_minor": 5
}
