{
 "cells": [
  {
   "cell_type": "markdown",
   "id": "056a1a1d-db50-43e8-a53f-e95700cfcccd",
   "metadata": {},
   "source": [
    "# Modelization"
   ]
  },
  {
   "cell_type": "code",
   "execution_count": 1,
   "id": "c2acefab",
   "metadata": {},
   "outputs": [],
   "source": [
    "# Set code path\n",
    "import sys\n",
    "import os\n",
    "sys.path.append(os.path.abspath(os.path.join(os.path.dirname(\"Model.ipynb\"), '..', 'code')))"
   ]
  },
  {
   "cell_type": "code",
   "execution_count": 2,
   "id": "94de0207-5138-4f53-802c-716313b91646",
   "metadata": {},
   "outputs": [],
   "source": [
    "from impute_and_drop import impute_missing, drop_data\n",
    "from one_hot_encoding import one_hot_encoding\n",
    "from models import RFC_train_and_evaluate, dummy_model\n",
    "#from preprocess import get_preprocessed_data\n",
    "import json\n",
    "from sklearn.ensemble import RandomForestRegressor, RandomForestClassifier\n",
    "from sklearn.model_selection import train_test_split\n",
    "from sklearn.metrics import mean_squared_error\n",
    "from sklearn.metrics import accuracy_score\n",
    "import numpy as np"
   ]
  },
  {
   "cell_type": "code",
   "execution_count": 3,
   "id": "e06d05ee",
   "metadata": {},
   "outputs": [],
   "source": [
    "#data = get_preprocessed_data(data_file_name=\"cis2080.csv\", labels_file_name=\"descriptive_var_names.json\")\n",
    "from utils import *\n",
    "data = load_my_data()"
   ]
  },
  {
   "cell_type": "markdown",
   "id": "c075bd3f-66d6-487f-b684-72a31251a6c3",
   "metadata": {},
   "source": [
    "## Subset data\n",
    "Select only those atributes whose metadata is considered complete."
   ]
  },
  {
   "cell_type": "code",
   "execution_count": 4,
   "id": "7a81a792-bb62-4459-9ba3-1e69e1b4d8a1",
   "metadata": {},
   "outputs": [],
   "source": [
    "with open(\"../metadata/descriptive_var_names.json\") as f:\n",
    "   var_names = json.load(f)\n",
    "\n",
    "selected_vars = []\n",
    "for key, value in var_names.items():\n",
    "    if (value[\"description\"] != \"incomplete\"):\n",
    "        selected_vars.append(value[\"name\"])\n",
    "\n",
    "subdata = data[selected_vars].drop(columns=[\"day\", \"month\", \"year\"])"
   ]
  },
  {
   "attachments": {},
   "cell_type": "markdown",
   "id": "0310a621-a153-4814-8156-ab194ae7bb95",
   "metadata": {},
   "source": [
    "## Missing values imputation\n",
    "### Exploration"
   ]
  },
  {
   "cell_type": "code",
   "execution_count": 5,
   "id": "912a5c56",
   "metadata": {},
   "outputs": [],
   "source": [
    "data = impute_missing(subdata)\n",
    "data = drop_data(data)"
   ]
  },
  {
   "attachments": {},
   "cell_type": "markdown",
   "id": "e0148500-f4a0-4d1d-8f9f-1993f992950b",
   "metadata": {},
   "source": [
    "## RandomForestRegressor"
   ]
  },
  {
   "attachments": {},
   "cell_type": "markdown",
   "id": "6d7c17a1-8728-4e69-b490-897c99beb2b8",
   "metadata": {},
   "source": [
    "### One hot encoding"
   ]
  },
  {
   "cell_type": "code",
   "execution_count": 6,
   "id": "1d002e8e-070a-4e9f-bcdd-16671de04dd4",
   "metadata": {},
   "outputs": [],
   "source": [
    "X, y = one_hot_encoding(data, \"UBE\")"
   ]
  },
  {
   "cell_type": "markdown",
   "id": "797af662",
   "metadata": {},
   "source": [
    "### Split dataset"
   ]
  },
  {
   "cell_type": "code",
   "execution_count": 7,
   "id": "80a863e5",
   "metadata": {},
   "outputs": [],
   "source": [
    "# Split the dataset into a training set and a test set\n",
    "X_train, X_test, y_train, y_test = train_test_split(X, y, test_size=0.2, random_state=1)"
   ]
  },
  {
   "cell_type": "markdown",
   "id": "75c5df16",
   "metadata": {},
   "source": [
    "### Model"
   ]
  },
  {
   "cell_type": "code",
   "execution_count": 8,
   "id": "57ae73ab-bdd9-4117-b70a-1bf12f6846df",
   "metadata": {},
   "outputs": [],
   "source": [
    "RFR = RandomForestRegressor(n_estimators=5, max_depth=4, random_state=1)\n"
   ]
  },
  {
   "cell_type": "code",
   "execution_count": 9,
   "id": "2a70590a",
   "metadata": {},
   "outputs": [
    {
     "data": {
      "text/html": [
       "<style>#sk-container-id-1 {color: black;background-color: white;}#sk-container-id-1 pre{padding: 0;}#sk-container-id-1 div.sk-toggleable {background-color: white;}#sk-container-id-1 label.sk-toggleable__label {cursor: pointer;display: block;width: 100%;margin-bottom: 0;padding: 0.3em;box-sizing: border-box;text-align: center;}#sk-container-id-1 label.sk-toggleable__label-arrow:before {content: \"▸\";float: left;margin-right: 0.25em;color: #696969;}#sk-container-id-1 label.sk-toggleable__label-arrow:hover:before {color: black;}#sk-container-id-1 div.sk-estimator:hover label.sk-toggleable__label-arrow:before {color: black;}#sk-container-id-1 div.sk-toggleable__content {max-height: 0;max-width: 0;overflow: hidden;text-align: left;background-color: #f0f8ff;}#sk-container-id-1 div.sk-toggleable__content pre {margin: 0.2em;color: black;border-radius: 0.25em;background-color: #f0f8ff;}#sk-container-id-1 input.sk-toggleable__control:checked~div.sk-toggleable__content {max-height: 200px;max-width: 100%;overflow: auto;}#sk-container-id-1 input.sk-toggleable__control:checked~label.sk-toggleable__label-arrow:before {content: \"▾\";}#sk-container-id-1 div.sk-estimator input.sk-toggleable__control:checked~label.sk-toggleable__label {background-color: #d4ebff;}#sk-container-id-1 div.sk-label input.sk-toggleable__control:checked~label.sk-toggleable__label {background-color: #d4ebff;}#sk-container-id-1 input.sk-hidden--visually {border: 0;clip: rect(1px 1px 1px 1px);clip: rect(1px, 1px, 1px, 1px);height: 1px;margin: -1px;overflow: hidden;padding: 0;position: absolute;width: 1px;}#sk-container-id-1 div.sk-estimator {font-family: monospace;background-color: #f0f8ff;border: 1px dotted black;border-radius: 0.25em;box-sizing: border-box;margin-bottom: 0.5em;}#sk-container-id-1 div.sk-estimator:hover {background-color: #d4ebff;}#sk-container-id-1 div.sk-parallel-item::after {content: \"\";width: 100%;border-bottom: 1px solid gray;flex-grow: 1;}#sk-container-id-1 div.sk-label:hover label.sk-toggleable__label {background-color: #d4ebff;}#sk-container-id-1 div.sk-serial::before {content: \"\";position: absolute;border-left: 1px solid gray;box-sizing: border-box;top: 0;bottom: 0;left: 50%;z-index: 0;}#sk-container-id-1 div.sk-serial {display: flex;flex-direction: column;align-items: center;background-color: white;padding-right: 0.2em;padding-left: 0.2em;position: relative;}#sk-container-id-1 div.sk-item {position: relative;z-index: 1;}#sk-container-id-1 div.sk-parallel {display: flex;align-items: stretch;justify-content: center;background-color: white;position: relative;}#sk-container-id-1 div.sk-item::before, #sk-container-id-1 div.sk-parallel-item::before {content: \"\";position: absolute;border-left: 1px solid gray;box-sizing: border-box;top: 0;bottom: 0;left: 50%;z-index: -1;}#sk-container-id-1 div.sk-parallel-item {display: flex;flex-direction: column;z-index: 1;position: relative;background-color: white;}#sk-container-id-1 div.sk-parallel-item:first-child::after {align-self: flex-end;width: 50%;}#sk-container-id-1 div.sk-parallel-item:last-child::after {align-self: flex-start;width: 50%;}#sk-container-id-1 div.sk-parallel-item:only-child::after {width: 0;}#sk-container-id-1 div.sk-dashed-wrapped {border: 1px dashed gray;margin: 0 0.4em 0.5em 0.4em;box-sizing: border-box;padding-bottom: 0.4em;background-color: white;}#sk-container-id-1 div.sk-label label {font-family: monospace;font-weight: bold;display: inline-block;line-height: 1.2em;}#sk-container-id-1 div.sk-label-container {text-align: center;}#sk-container-id-1 div.sk-container {/* jupyter's `normalize.less` sets `[hidden] { display: none; }` but bootstrap.min.css set `[hidden] { display: none !important; }` so we also need the `!important` here to be able to override the default hidden behavior on the sphinx rendered scikit-learn.org. See: https://github.com/scikit-learn/scikit-learn/issues/21755 */display: inline-block !important;position: relative;}#sk-container-id-1 div.sk-text-repr-fallback {display: none;}</style><div id=\"sk-container-id-1\" class=\"sk-top-container\"><div class=\"sk-text-repr-fallback\"><pre>RandomForestRegressor(max_depth=4, n_estimators=5, random_state=1)</pre><b>In a Jupyter environment, please rerun this cell to show the HTML representation or trust the notebook. <br />On GitHub, the HTML representation is unable to render, please try loading this page with nbviewer.org.</b></div><div class=\"sk-container\" hidden><div class=\"sk-item\"><div class=\"sk-estimator sk-toggleable\"><input class=\"sk-toggleable__control sk-hidden--visually\" id=\"sk-estimator-id-1\" type=\"checkbox\" checked><label for=\"sk-estimator-id-1\" class=\"sk-toggleable__label sk-toggleable__label-arrow\">RandomForestRegressor</label><div class=\"sk-toggleable__content\"><pre>RandomForestRegressor(max_depth=4, n_estimators=5, random_state=1)</pre></div></div></div></div></div>"
      ],
      "text/plain": [
       "RandomForestRegressor(max_depth=4, n_estimators=5, random_state=1)"
      ]
     },
     "execution_count": 9,
     "metadata": {},
     "output_type": "execute_result"
    }
   ],
   "source": [
    "RFR.fit(X_train, y_train)"
   ]
  },
  {
   "cell_type": "code",
   "execution_count": 10,
   "id": "d3cf4a50",
   "metadata": {},
   "outputs": [
    {
     "name": "stdout",
     "output_type": "stream",
     "text": [
      "RMSE: 7.14\n"
     ]
    }
   ],
   "source": [
    "# Make predictions on the test data\n",
    "RFR_pred = RFR.predict(X_test)\n",
    "dummy_pred = dummy_model(y_train, X_test)\n",
    "\n",
    "# Evaluate the performance of the classifier on the test data\n",
    "RFR_rmse = np.sqrt(mean_squared_error(y_test, RFR_pred))\n",
    "dummy_rmse = np.sqrt(mean_squared_error(y_test, dummy_pred))\n",
    "\n",
    "print(\"RFR RMSE: {:.2f}\".format(RFR_rmse))\n",
    "print(\"Dummy RMSE: {:.2f}\".format(dummy_rmse))"
   ]
  },
  {
   "cell_type": "code",
   "execution_count": 11,
   "id": "9b4b9b77",
   "metadata": {},
   "outputs": [
    {
     "data": {
      "text/plain": [
       "0.1     0.0\n",
       "0.9    16.0\n",
       "Name: UBE, dtype: float64"
      ]
     },
     "execution_count": 11,
     "metadata": {},
     "output_type": "execute_result"
    }
   ],
   "source": [
    "data.UBE.quantile([0.1, 0.9])"
   ]
  },
  {
   "attachments": {},
   "cell_type": "markdown",
   "id": "d47c7b34",
   "metadata": {},
   "source": [
    "Given these quantiles, the RMSE indicates that the prediction is awful. Nevertheless, there are plenty of aspects to improve now that a basic model is running."
   ]
  },
  {
   "attachments": {},
   "cell_type": "markdown",
   "id": "7974fbf0",
   "metadata": {},
   "source": [
    "## RandomForestClassfier"
   ]
  },
  {
   "cell_type": "markdown",
   "id": "04a70dc9",
   "metadata": {},
   "source": [
    "### One Hot Encodding"
   ]
  },
  {
   "cell_type": "code",
   "execution_count": 12,
   "id": "e5e89740",
   "metadata": {},
   "outputs": [],
   "source": [
    "X, y = one_hot_encoding(data.drop([\"UBE\", \"UBEplus\", \"drink_loc1\", \"drink_loc2\"], axis=1), \"drinking_pattern\")"
   ]
  },
  {
   "cell_type": "code",
   "execution_count": 13,
   "id": "67817d3a",
   "metadata": {},
   "outputs": [],
   "source": [
    "# Split the dataset into a training set and a test set\n",
    "X_train, X_test, y_train, y_test = train_test_split(X, y, test_size=0.2, random_state=4)"
   ]
  },
  {
   "cell_type": "code",
   "execution_count": 14,
   "id": "45be684d",
   "metadata": {},
   "outputs": [],
   "source": [
    "RFC  = RandomForestClassifier(random_state=0)"
   ]
  },
  {
   "cell_type": "code",
   "execution_count": 15,
   "id": "7138a6fd",
   "metadata": {},
   "outputs": [
    {
     "data": {
      "text/html": [
       "<style>#sk-container-id-2 {color: black;background-color: white;}#sk-container-id-2 pre{padding: 0;}#sk-container-id-2 div.sk-toggleable {background-color: white;}#sk-container-id-2 label.sk-toggleable__label {cursor: pointer;display: block;width: 100%;margin-bottom: 0;padding: 0.3em;box-sizing: border-box;text-align: center;}#sk-container-id-2 label.sk-toggleable__label-arrow:before {content: \"▸\";float: left;margin-right: 0.25em;color: #696969;}#sk-container-id-2 label.sk-toggleable__label-arrow:hover:before {color: black;}#sk-container-id-2 div.sk-estimator:hover label.sk-toggleable__label-arrow:before {color: black;}#sk-container-id-2 div.sk-toggleable__content {max-height: 0;max-width: 0;overflow: hidden;text-align: left;background-color: #f0f8ff;}#sk-container-id-2 div.sk-toggleable__content pre {margin: 0.2em;color: black;border-radius: 0.25em;background-color: #f0f8ff;}#sk-container-id-2 input.sk-toggleable__control:checked~div.sk-toggleable__content {max-height: 200px;max-width: 100%;overflow: auto;}#sk-container-id-2 input.sk-toggleable__control:checked~label.sk-toggleable__label-arrow:before {content: \"▾\";}#sk-container-id-2 div.sk-estimator input.sk-toggleable__control:checked~label.sk-toggleable__label {background-color: #d4ebff;}#sk-container-id-2 div.sk-label input.sk-toggleable__control:checked~label.sk-toggleable__label {background-color: #d4ebff;}#sk-container-id-2 input.sk-hidden--visually {border: 0;clip: rect(1px 1px 1px 1px);clip: rect(1px, 1px, 1px, 1px);height: 1px;margin: -1px;overflow: hidden;padding: 0;position: absolute;width: 1px;}#sk-container-id-2 div.sk-estimator {font-family: monospace;background-color: #f0f8ff;border: 1px dotted black;border-radius: 0.25em;box-sizing: border-box;margin-bottom: 0.5em;}#sk-container-id-2 div.sk-estimator:hover {background-color: #d4ebff;}#sk-container-id-2 div.sk-parallel-item::after {content: \"\";width: 100%;border-bottom: 1px solid gray;flex-grow: 1;}#sk-container-id-2 div.sk-label:hover label.sk-toggleable__label {background-color: #d4ebff;}#sk-container-id-2 div.sk-serial::before {content: \"\";position: absolute;border-left: 1px solid gray;box-sizing: border-box;top: 0;bottom: 0;left: 50%;z-index: 0;}#sk-container-id-2 div.sk-serial {display: flex;flex-direction: column;align-items: center;background-color: white;padding-right: 0.2em;padding-left: 0.2em;position: relative;}#sk-container-id-2 div.sk-item {position: relative;z-index: 1;}#sk-container-id-2 div.sk-parallel {display: flex;align-items: stretch;justify-content: center;background-color: white;position: relative;}#sk-container-id-2 div.sk-item::before, #sk-container-id-2 div.sk-parallel-item::before {content: \"\";position: absolute;border-left: 1px solid gray;box-sizing: border-box;top: 0;bottom: 0;left: 50%;z-index: -1;}#sk-container-id-2 div.sk-parallel-item {display: flex;flex-direction: column;z-index: 1;position: relative;background-color: white;}#sk-container-id-2 div.sk-parallel-item:first-child::after {align-self: flex-end;width: 50%;}#sk-container-id-2 div.sk-parallel-item:last-child::after {align-self: flex-start;width: 50%;}#sk-container-id-2 div.sk-parallel-item:only-child::after {width: 0;}#sk-container-id-2 div.sk-dashed-wrapped {border: 1px dashed gray;margin: 0 0.4em 0.5em 0.4em;box-sizing: border-box;padding-bottom: 0.4em;background-color: white;}#sk-container-id-2 div.sk-label label {font-family: monospace;font-weight: bold;display: inline-block;line-height: 1.2em;}#sk-container-id-2 div.sk-label-container {text-align: center;}#sk-container-id-2 div.sk-container {/* jupyter's `normalize.less` sets `[hidden] { display: none; }` but bootstrap.min.css set `[hidden] { display: none !important; }` so we also need the `!important` here to be able to override the default hidden behavior on the sphinx rendered scikit-learn.org. See: https://github.com/scikit-learn/scikit-learn/issues/21755 */display: inline-block !important;position: relative;}#sk-container-id-2 div.sk-text-repr-fallback {display: none;}</style><div id=\"sk-container-id-2\" class=\"sk-top-container\"><div class=\"sk-text-repr-fallback\"><pre>RandomForestClassifier(random_state=0)</pre><b>In a Jupyter environment, please rerun this cell to show the HTML representation or trust the notebook. <br />On GitHub, the HTML representation is unable to render, please try loading this page with nbviewer.org.</b></div><div class=\"sk-container\" hidden><div class=\"sk-item\"><div class=\"sk-estimator sk-toggleable\"><input class=\"sk-toggleable__control sk-hidden--visually\" id=\"sk-estimator-id-2\" type=\"checkbox\" checked><label for=\"sk-estimator-id-2\" class=\"sk-toggleable__label sk-toggleable__label-arrow\">RandomForestClassifier</label><div class=\"sk-toggleable__content\"><pre>RandomForestClassifier(random_state=0)</pre></div></div></div></div></div>"
      ],
      "text/plain": [
       "RandomForestClassifier(random_state=0)"
      ]
     },
     "execution_count": 15,
     "metadata": {},
     "output_type": "execute_result"
    }
   ],
   "source": [
    "RFC.fit(X_train, y_train)"
   ]
  },
  {
   "cell_type": "code",
   "execution_count": 16,
   "id": "e7595b2b",
   "metadata": {},
   "outputs": [],
   "source": [
    "# Make predictions on the test data\n",
    "RFC_pred = RFC.predict(X_test)\n",
    "dummy_pred = dummy_model(y_train, X_test)"
   ]
  },
  {
   "cell_type": "code",
   "execution_count": 17,
   "id": "db31d87f",
   "metadata": {},
   "outputs": [
    {
     "name": "stdout",
     "output_type": "stream",
     "text": [
      "RFC_Accuracy: 64.87%\n",
      "Dummy_Accuracy: 60.07%\n"
     ]
    }
   ],
   "source": [
    "# Evaluate the performance of the classifier on the test data\n",
    "RFC_accuracy = accuracy_score(y_test, RFC_pred)\n",
    "dummy_accuracy = accuracy_score(y_test, dummy_pred)\n",
    "print(\"RFC_Accuracy: {:.2f}%\".format(RFC_accuracy * 100))\n",
    "print(\"Dummy_Accuracy: {:.2f}%\".format(dummy_accuracy * 100))"
   ]
  },
  {
   "cell_type": "markdown",
   "id": "da6dd623",
   "metadata": {},
   "source": [
    "## Model explanability"
   ]
  },
  {
   "cell_type": "code",
   "execution_count": 18,
   "id": "06df41dd",
   "metadata": {},
   "outputs": [
    {
     "name": "stdout",
     "output_type": "stream",
     "text": [
      "RFC_Accuracy: 65.52%\n",
      "Dummy_Accuracy: 59.44%\n"
     ]
    }
   ],
   "source": [
    "RFC_train_and_evaluate(data, target=\"drinking_pattern\", columns_to_drop=[\"UBE\", \"UBEplus\", \"drink_loc1\", \"drink_loc2\"])"
   ]
  },
  {
   "cell_type": "code",
   "execution_count": 19,
   "id": "e20d0c53",
   "metadata": {},
   "outputs": [
    {
     "name": "stdout",
     "output_type": "stream",
     "text": [
      "RFC_Accuracy: 81.50%\n",
      "Dummy_Accuracy: 59.87%\n"
     ]
    }
   ],
   "source": [
    "RFC_train_and_evaluate(data, target=\"drinking_pattern\", columns_to_drop=[\"UBE\", \"UBEplus\"])"
   ]
  },
  {
   "cell_type": "code",
   "execution_count": 20,
   "id": "13edb3fc",
   "metadata": {},
   "outputs": [
    {
     "name": "stdout",
     "output_type": "stream",
     "text": [
      "RFC_Accuracy: 92.03%\n",
      "Dummy_Accuracy: 59.81%\n"
     ]
    }
   ],
   "source": [
    "RFC_train_and_evaluate(data, target=\"drinking_pattern\", columns_to_drop=[\"drink_loc1\", \"drink_loc2\"])"
   ]
  },
  {
   "cell_type": "markdown",
   "id": "32323f34",
   "metadata": {},
   "source": [
    "### Those who drink"
   ]
  },
  {
   "cell_type": "code",
   "execution_count": 21,
   "id": "ee64219d",
   "metadata": {},
   "outputs": [
    {
     "name": "stdout",
     "output_type": "stream",
     "text": [
      "RFC_Accuracy: 95.47%\n",
      "Dummy_Accuracy: 95.47%\n"
     ]
    }
   ],
   "source": [
    "subdata = data[data.UBE > 0].copy()\n",
    "RFC_train_and_evaluate(subdata, target=\"drinking_pattern\", columns_to_drop=[\"UBE\", \"UBEplus\"])"
   ]
  }
 ],
 "metadata": {
  "kernelspec": {
   "display_name": "Python 3 (ipykernel)",
   "language": "python",
   "name": "python3"
  },
  "language_info": {
   "codemirror_mode": {
    "name": "ipython",
    "version": 3
   },
   "file_extension": ".py",
   "mimetype": "text/x-python",
   "name": "python",
   "nbconvert_exporter": "python",
   "pygments_lexer": "ipython3",
   "version": "3.10.6"
  },
  "vscode": {
   "interpreter": {
    "hash": "4fbfb629fa39461162266b9b820f108237ed20d8d24b9b3a7805e671892d92b8"
   }
  }
 },
 "nbformat": 4,
 "nbformat_minor": 5
}
